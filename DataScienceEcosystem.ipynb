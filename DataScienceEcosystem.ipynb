{
  "metadata": {
    "language_info": {
      "codemirror_mode": {
        "name": "python",
        "version": 3
      },
      "file_extension": ".py",
      "mimetype": "text/x-python",
      "name": "python",
      "nbconvert_exporter": "python",
      "pygments_lexer": "ipython3",
      "version": "3.8"
    },
    "kernelspec": {
      "name": "python",
      "display_name": "Python (Pyodide)",
      "language": "python"
    }
  },
  "nbformat_minor": 4,
  "nbformat": 4,
  "cells": [
    {
      "cell_type": "markdown",
      "source": "# DATA SCIENCE TOOLS AND ECOSYSTEM ",
      "metadata": {
        "tags": []
      }
    },
    {
      "cell_type": "markdown",
      "source": "## Introduction\n\nIn this notebook, Data Science Tools and Ecosystem are summarized.",
      "metadata": {}
    },
    {
      "cell_type": "markdown",
      "source": "**Objectives:**\n\n- Languages used for Data Science \n- Libraries of Data Science\n- Tools used in Data Science\n- Simple Arithmetic Expressions",
      "metadata": {}
    },
    {
      "cell_type": "markdown",
      "source": "## Data Science Languages\n\n- **Some of the popular languages that Data Scientists use are:**\n1. Python \n2. R \n3. SQL\n4. Scala\n5. Java\n6. C++\n7. Julia\n\n- **Some other languages :** \n1. JavaScript\n2. PHP\n3. Go\n4. Ruby\n5. Visual Basic\n",
      "metadata": {}
    },
    {
      "cell_type": "markdown",
      "source": "## Libraries of Data Science\n\nSome of the commonly used libraries used by Data Scientists include: \n\n**1. Scientific Computing Libraries in Python:** \n- Pandas\n- Numpy \n\n**2. Visualization Libraries in Python:**\n- Matplotlib\n- Seaborn\n\n**3. High-Level-Machine Learning and Deep Learning:**\n- Scikit-learn\n- Keras\n\n**4. Deep Learning Libraries in Python:**\n- Tenson Flow\n- Pytorch\n\n**5. Libraries used in other languages:**\n\n**Scala Libraries:**\n- Vegas\n- Big DL\n\n**R Libraries:**\n- ggplot2",
      "metadata": {}
    },
    {
      "cell_type": "markdown",
      "source": "## Tools of Data Science\n\n|Data Science Tools|\n|------------------|\n|Jupyter Notebooks|\n|R Studio|\n|Watson sTUDIO|",
      "metadata": {}
    },
    {
      "cell_type": "markdown",
      "source": "### Below are a few examples of evaluating arithmetic expressions in Python\n",
      "metadata": {}
    },
    {
      "cell_type": "code",
      "source": "# This a simple arithmetic expression to mutiply then add integers\n(3*4)+5",
      "metadata": {
        "trusted": true
      },
      "execution_count": 16,
      "outputs": [
        {
          "execution_count": 16,
          "output_type": "execute_result",
          "data": {
            "text/plain": "17"
          },
          "metadata": {}
        }
      ]
    },
    {
      "cell_type": "markdown",
      "source": " ## To convert minutes to hours",
      "metadata": {}
    },
    {
      "cell_type": "code",
      "source": "# This will convert 200 minutes to hours by diving by 60\nminutes = 200\n\nhours = minutes / 60\n\nprint(minutes, \"minutes is equal to\", hours, \"hours\")\n",
      "metadata": {
        "trusted": true
      },
      "execution_count": 17,
      "outputs": [
        {
          "name": "stdout",
          "text": "200 minutes is equal to 3.3333333333333335 hours\n",
          "output_type": "stream"
        }
      ]
    },
    {
      "cell_type": "markdown",
      "source": "## Author\nSiri",
      "metadata": {}
    }
  ]
}